{
 "cells": [
  {
   "cell_type": "code",
   "execution_count": 1,
   "metadata": {
    "collapsed": true
   },
   "outputs": [],
   "source": [
    "from openslide import OpenSlide\n",
    "from PIL import Image\n",
    "import numpy as np\n",
    "import os\n",
    "from time import time\n",
    "from joblib import Parallel, delayed"
   ]
  },
  {
   "cell_type": "code",
   "execution_count": 3,
   "outputs": [],
   "source": [
    "svs_src = r'\\\\10.162.80.6\\Kyu_Sync\\Aging\\data\\Wirtz.Denis_OTS-20-7327\\batch3'\n",
    "svss = [os.path.join(svs_src,_) for _ in os.listdir(svs_src) if _.endswith('svs')]\n",
    "svs_dst = os.path.join(svs_src,'2um')\n",
    "if not os.path.exists(svs_dst): os.mkdir(svs_dst)"
   ],
   "metadata": {
    "collapsed": false,
    "pycharm": {
     "name": "#%%\n"
    }
   }
  },
  {
   "cell_type": "code",
   "execution_count": 3,
   "outputs": [],
   "source": [
    "def svs2tiff(svs):\n",
    "    src,fn = os.path.split(svs)\n",
    "    fn,ext = os.path.splitext(fn)\n",
    "    fn = fn + '.tif'\n",
    "    if os.path.exists(os.path.join(svs_dst,fn)): return\n",
    "    svs_obj = OpenSlide(svs)\n",
    "    svs_img = svs_obj.read_region(location=(0,0),level=0,size=svs_obj.dimensions).convert('RGB')\n",
    "    resize_factor = 2/float(svs_obj.properties['aperio.MPP'])\n",
    "    resize_dimension = tuple([int(np.ceil(_/resize_factor)) for _ in svs_obj.dimensions])\n",
    "    svs_img = svs_img.resize(resize_dimension,resample=Image.NEAREST)\n",
    "    svs_img.save(os.path.join(svs_dst,fn),resolution=2,resolution_unit=1,quality=100,compression=None)"
   ],
   "metadata": {
    "collapsed": false,
    "pycharm": {
     "name": "#%%\n"
    }
   }
  },
  {
   "cell_type": "code",
   "execution_count": null,
   "outputs": [
    {
     "name": "stdout",
     "output_type": "stream",
     "text": [
      "128.03 sec elapsed\n",
      "224.01 sec elapsed\n",
      "229.06 sec elapsed\n",
      "340.98 sec elapsed\n",
      "218.09 sec elapsed\n",
      "484.71 sec elapsed\n",
      "269.01 sec elapsed\n",
      "270.43 sec elapsed\n",
      "388.52 sec elapsed\n",
      "508.32 sec elapsed\n",
      "261.93 sec elapsed\n",
      "216.87 sec elapsed\n",
      "446.60 sec elapsed\n",
      "148.08 sec elapsed\n",
      "315.18 sec elapsed\n",
      "341.09 sec elapsed\n",
      "478.63 sec elapsed\n",
      "407.47 sec elapsed\n",
      "141.21 sec elapsed\n",
      "424.25 sec elapsed\n",
      "371.42 sec elapsed\n",
      "481.45 sec elapsed\n",
      "257.62 sec elapsed\n",
      "220.90 sec elapsed\n",
      "430.42 sec elapsed\n",
      "433.06 sec elapsed\n",
      "361.25 sec elapsed\n",
      "141.39 sec elapsed\n",
      "443.24 sec elapsed\n"
     ]
    }
   ],
   "source": [
    "st = time()\n",
    "Parallel(n_jobs=5, prefer=\"threads\")(delayed(svs2tiff)(svs) for svs in svss)\n",
    "print(\"{:.2f} sec elapsed for {:d} images at 5x\".format(time()-st),len(svss))"
   ],
   "metadata": {
    "collapsed": false,
    "pycharm": {
     "name": "#%%\n",
     "is_executing": true
    }
   }
  }
 ],
 "metadata": {
  "kernelspec": {
   "display_name": "Python 3",
   "language": "python",
   "name": "python3"
  },
  "language_info": {
   "codemirror_mode": {
    "name": "ipython",
    "version": 2
   },
   "file_extension": ".py",
   "mimetype": "text/x-python",
   "name": "python",
   "nbconvert_exporter": "python",
   "pygments_lexer": "ipython2",
   "version": "2.7.6"
  }
 },
 "nbformat": 4,
 "nbformat_minor": 0
}