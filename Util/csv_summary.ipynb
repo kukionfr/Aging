{
 "cells": [
  {
   "cell_type": "code",
   "execution_count": 1,
   "metadata": {
    "collapsed": true,
    "pycharm": {
     "name": "#%%\n"
    }
   },
   "outputs": [
    {
     "data": {
      "text/plain": "['\\\\\\\\kukissd\\\\Kyu_Sync\\\\Aging\\\\data\\\\svs\\\\temp\\\\fb_morp_param\\\\5619_Wirtz.Denis_OTS-19_5619-010_parameters_0.csv',\n '\\\\\\\\kukissd\\\\Kyu_Sync\\\\Aging\\\\data\\\\svs\\\\temp\\\\fb_morp_param\\\\5619_Wirtz.Denis_OTS-19_5619-010_parameters_1.csv',\n '\\\\\\\\kukissd\\\\Kyu_Sync\\\\Aging\\\\data\\\\svs\\\\temp\\\\fb_morp_param\\\\5619_Wirtz.Denis_OTS-19_5619-010_parameters_2.csv',\n '\\\\\\\\kukissd\\\\Kyu_Sync\\\\Aging\\\\data\\\\svs\\\\temp\\\\fb_morp_param\\\\5619_Wirtz.Denis_OTS-19_5619-010_parameters_3.csv',\n '\\\\\\\\kukissd\\\\Kyu_Sync\\\\Aging\\\\data\\\\svs\\\\temp\\\\fb_morp_param\\\\5619_Wirtz.Denis_OTS-19_5619-010_parameters_4.csv',\n '\\\\\\\\kukissd\\\\Kyu_Sync\\\\Aging\\\\data\\\\svs\\\\temp\\\\fb_morp_param\\\\5619_Wirtz.Denis_OTS-19_5619-010_parameters_5.csv',\n '\\\\\\\\kukissd\\\\Kyu_Sync\\\\Aging\\\\data\\\\svs\\\\temp\\\\fb_morp_param\\\\5619_Wirtz.Denis_OTS-19_5619-033_parameters_0.csv',\n '\\\\\\\\kukissd\\\\Kyu_Sync\\\\Aging\\\\data\\\\svs\\\\temp\\\\fb_morp_param\\\\5619_Wirtz.Denis_OTS-19_5619-033_parameters_1.csv',\n '\\\\\\\\kukissd\\\\Kyu_Sync\\\\Aging\\\\data\\\\svs\\\\temp\\\\fb_morp_param\\\\5619_Wirtz.Denis_OTS-19_5619-033_parameters_2.csv',\n '\\\\\\\\kukissd\\\\Kyu_Sync\\\\Aging\\\\data\\\\svs\\\\temp\\\\fb_morp_param\\\\Wirtz.Denis_OTS-19_5021-006_parameters_0.csv',\n '\\\\\\\\kukissd\\\\Kyu_Sync\\\\Aging\\\\data\\\\svs\\\\temp\\\\fb_morp_param\\\\Wirtz.Denis_OTS-19_5021-006_parameters_1.csv',\n '\\\\\\\\kukissd\\\\Kyu_Sync\\\\Aging\\\\data\\\\svs\\\\temp\\\\fb_morp_param\\\\Wirtz.Denis_OTS-19_5021-006_parameters_2.csv',\n '\\\\\\\\kukissd\\\\Kyu_Sync\\\\Aging\\\\data\\\\svs\\\\temp\\\\fb_morp_param\\\\Wirtz.Denis_OTS-19_5021-006_parameters_3.csv',\n '\\\\\\\\kukissd\\\\Kyu_Sync\\\\Aging\\\\data\\\\svs\\\\temp\\\\fb_morp_param\\\\Wirtz.Denis_OTS-19_5021-006_parameters_4.csv',\n '\\\\\\\\kukissd\\\\Kyu_Sync\\\\Aging\\\\data\\\\svs\\\\temp\\\\fb_morp_param\\\\Wirtz.Denis_OTS-19_5021-006_parameters_5.csv']"
     },
     "execution_count": 1,
     "metadata": {},
     "output_type": "execute_result"
    }
   ],
   "source": [
    "import os\n",
    "csv_src = r'\\\\kukissd\\Kyu_Sync\\Aging\\data\\svs\\temp\\fb_morp_param'\n",
    "fns = [os.path.join(csv_src,_) for _ in os.listdir(csv_src) if _.lower().endswith('csv')]\n",
    "fns"
   ]
  },
  {
   "cell_type": "code",
   "execution_count": 2,
   "outputs": [],
   "source": [
    "import pandas as pd\n",
    "import numpy as np\n",
    "\n",
    "area_means = []\n",
    "ar_means = []\n",
    "cir_means = []\n",
    "\n",
    "area_stds = []\n",
    "ar_stds = []\n",
    "cir_stds = []\n",
    "\n",
    "for fn in fns:\n",
    "    csv = pd.read_csv(fn)\n",
    "    area = csv['area']\n",
    "    ar = csv['aspect_ratio']\n",
    "    cir = csv['circularity']\n",
    "\n",
    "    area_means.append(np.mean(area))\n",
    "    ar_means.append(np.mean(ar))\n",
    "    cir_means.append(np.mean(cir))\n",
    "    area_stds.append(np.std(area))\n",
    "    ar_stds.append(np.std(ar))\n",
    "    cir_stds.append(np.std(cir))\n",
    "\n",
    "dict = {'filename':fns,\n",
    "        'area_mean':area_means,'area_std':area_stds,\n",
    "        'AR_mean':ar_means,'AR_std':ar_stds,\n",
    "        'SF_mean':cir_means,'SF_std':cir_stds\n",
    "        }\n",
    "\n",
    "df=pd.DataFrame(dict)\n",
    "df.to_csv(os.path.join(csv_src,'summary.csv'),index=False)"
   ],
   "metadata": {
    "collapsed": false,
    "pycharm": {
     "name": "#%%\n"
    }
   }
  },
  {
   "cell_type": "code",
   "execution_count": 2,
   "outputs": [],
   "source": [],
   "metadata": {
    "collapsed": false,
    "pycharm": {
     "name": "#%%\n"
    }
   }
  }
 ],
 "metadata": {
  "kernelspec": {
   "display_name": "Python 3",
   "language": "python",
   "name": "python3"
  },
  "language_info": {
   "codemirror_mode": {
    "name": "ipython",
    "version": 2
   },
   "file_extension": ".py",
   "mimetype": "text/x-python",
   "name": "python",
   "nbconvert_exporter": "python",
   "pygments_lexer": "ipython2",
   "version": "2.7.6"
  }
 },
 "nbformat": 4,
 "nbformat_minor": 0
}