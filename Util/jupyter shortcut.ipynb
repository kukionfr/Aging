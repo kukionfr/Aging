{
 "cells": [
  {
   "cell_type": "markdown",
   "metadata": {
    "collapsed": true,
    "pycharm": {
     "name": "#%% md\n"
    }
   },
   "source": [
    "ctrl + D = duplicate highlighted block or line\n",
    "\n",
    "alt + shift + f10 = execute py file\n",
    "\n",
    "ctrl + enter = execute current cell\n",
    "\n",
    "shift + enter = execute this cell and select next cell\n",
    "\n",
    "ctrl + shift + alt + enter to execute all\n",
    "\n",
    "\n"
   ]
  }
 ],
 "metadata": {
  "kernelspec": {
   "display_name": "Python 3",
   "language": "python",
   "name": "python3"
  },
  "language_info": {
   "codemirror_mode": {
    "name": "ipython",
    "version": 2
   },
   "file_extension": ".py",
   "mimetype": "text/x-python",
   "name": "python",
   "nbconvert_exporter": "python",
   "pygments_lexer": "ipython2",
   "version": "2.7.6"
  }
 },
 "nbformat": 4,
 "nbformat_minor": 0
}