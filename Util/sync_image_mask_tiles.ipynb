{
 "cells": [
  {
   "cell_type": "code",
   "execution_count": 1,
   "metadata": {
    "collapsed": true
   },
   "outputs": [],
   "source": [
    "import os"
   ]
  },
  {
   "cell_type": "code",
   "execution_count": 12,
   "outputs": [
    {
     "name": "stdout",
     "output_type": "stream",
     "text": [
      "\\\\kukissd\\Kyu_Sync\\Aging\\data\\svs\\20x\\segmentation\\Wirtz.Denis_OTS-19_5021-003_tile_0\\image\n",
      "[]\n",
      "\\\\kukissd\\Kyu_Sync\\Aging\\data\\svs\\20x\\segmentation\\Wirtz.Denis_OTS-19_5021-003_tile_1\\image\n",
      "[]\n",
      "\\\\kukissd\\Kyu_Sync\\Aging\\data\\svs\\20x\\segmentation\\Wirtz.Denis_OTS-19_5021-003_tile_2\\image\n",
      "[]\n",
      "\\\\kukissd\\Kyu_Sync\\Aging\\data\\svs\\20x\\segmentation\\Wirtz.Denis_OTS-19_5021-003_tile_3\\image\n",
      "[]\n",
      "\\\\kukissd\\Kyu_Sync\\Aging\\data\\svs\\20x\\segmentation\\Wirtz.Denis_OTS-19_5021-003_tile_4\\image\n",
      "[]\n",
      "\\\\kukissd\\Kyu_Sync\\Aging\\data\\svs\\20x\\segmentation\\Wirtz.Denis_OTS-19_5021-003_tile_5\\image\n",
      "['tile_127.png', 'tile_169.png', 'tile_188.png', 'tile_211.png', 'tile_216.png', 'tile_218.png', 'tile_219.png', 'tile_220.png', 'tile_221.png', 'tile_250.png', 'tile_252.png', 'tile_40.png', 'tile_45.png']\n"
     ]
    }
   ],
   "source": [
    "src = r'\\\\kukissd\\Kyu_Sync\\Aging\\data\\svs\\20x\\segmentation'\n",
    "tiles = [os.path.join(src,_) for _ in os.listdir(src) if 'tile' in _]\n",
    "imgs = [os.path.join(_,'image') for _ in tiles]\n",
    "masks = [os.path.join(_,'mask') for _ in tiles]\n",
    "for img,mask in zip(imgs,masks):\n",
    "    print(img)\n",
    "    img_pngs = [_ for _ in os.listdir(img) if _.endswith('png')]\n",
    "    mask_pngs = [_ for _ in os.listdir(mask) if _.endswith('png')]\n",
    "    masks_to_delete = [_ for _ in mask_pngs if _ not in img_pngs]\n",
    "    print(masks_to_delete)\n",
    "    for item in masks_to_delete:\n",
    "        os.remove(os.path.join(mask,item))\n",
    "\n"
   ],
   "metadata": {
    "collapsed": false,
    "pycharm": {
     "name": "#%%\n"
    }
   }
  }
 ],
 "metadata": {
  "kernelspec": {
   "display_name": "Python 3",
   "language": "python",
   "name": "python3"
  },
  "language_info": {
   "codemirror_mode": {
    "name": "ipython",
    "version": 2
   },
   "file_extension": ".py",
   "mimetype": "text/x-python",
   "name": "python",
   "nbconvert_exporter": "python",
   "pygments_lexer": "ipython2",
   "version": "2.7.6"
  }
 },
 "nbformat": 4,
 "nbformat_minor": 0
}