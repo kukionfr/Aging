{
 "cells": [
  {
   "cell_type": "code",
   "execution_count": 1,
   "outputs": [
    {
     "ename": "ModuleNotFoundError",
     "evalue": "No module named 'PySide'",
     "output_type": "error",
     "traceback": [
      "\u001B[1;31m---------------------------------------------------------------------------\u001B[0m",
      "\u001B[1;31mModuleNotFoundError\u001B[0m                       Traceback (most recent call last)",
      "\u001B[1;32m<ipython-input-1-7a460c592ae5>\u001B[0m in \u001B[0;36m<module>\u001B[1;34m\u001B[0m\n\u001B[0;32m      1\u001B[0m \u001B[1;32mimport\u001B[0m \u001B[0mio\u001B[0m\u001B[1;33m\u001B[0m\u001B[1;33m\u001B[0m\u001B[0m\n\u001B[0;32m      2\u001B[0m \u001B[1;32mimport\u001B[0m \u001B[0mmatplotlib\u001B[0m\u001B[1;33m.\u001B[0m\u001B[0mpyplot\u001B[0m \u001B[1;32mas\u001B[0m \u001B[0mplt\u001B[0m\u001B[1;33m\u001B[0m\u001B[1;33m\u001B[0m\u001B[0m\n\u001B[1;32m----> 3\u001B[1;33m \u001B[1;32mfrom\u001B[0m \u001B[0mPySide\u001B[0m\u001B[1;33m.\u001B[0m\u001B[0mQtGui\u001B[0m \u001B[1;32mimport\u001B[0m \u001B[0mQApplication\u001B[0m\u001B[1;33m,\u001B[0m \u001B[0mQImage\u001B[0m\u001B[1;33m\u001B[0m\u001B[1;33m\u001B[0m\u001B[0m\n\u001B[0m\u001B[0;32m      4\u001B[0m \u001B[1;33m\u001B[0m\u001B[0m\n\u001B[0;32m      5\u001B[0m \u001B[1;32mdef\u001B[0m \u001B[0madd_clipboard_to_figures\u001B[0m\u001B[1;33m(\u001B[0m\u001B[1;33m)\u001B[0m\u001B[1;33m:\u001B[0m\u001B[1;33m\u001B[0m\u001B[1;33m\u001B[0m\u001B[0m\n",
      "\u001B[1;31mModuleNotFoundError\u001B[0m: No module named 'PySide'"
     ]
    }
   ],
   "source": [
    "import io\n",
    "import matplotlib.pyplot as plt\n",
    "from PySide2.QtGui import QClipboard, QImage\n",
    "\n",
    "\n",
    "def add_clipboard_to_figures():\n",
    "    # use monkey-patching to replace the original plt.figure() function with\n",
    "    # our own, which supports clipboard-copying\n",
    "    oldfig = plt.figure\n",
    "\n",
    "    def newfig(*args, **kwargs):\n",
    "        fig = oldfig(*args, **kwargs)\n",
    "        def clipboard_handler(event):\n",
    "            if event.key == 'ctrl+c':\n",
    "                # store the image in a buffer using savefig(), this has the\n",
    "                # advantage of applying all the default savefig parameters\n",
    "                # such as background color; those would be ignored if you simply\n",
    "                # grab the canvas using Qt\n",
    "                buf = io.BytesIO()\n",
    "                fig.savefig(buf)\n",
    "                QClipboard.setImage(QImage.fromData(buf.getvalue()))\n",
    "                buf.close()\n",
    "\n",
    "        fig.canvas.mpl_connect('key_press_event', clipboard_handler)\n",
    "        return fig\n",
    "\n",
    "    plt.figure = newfig\n",
    "\n",
    "add_clipboard_to_figures()"
   ],
   "metadata": {
    "collapsed": false,
    "pycharm": {
     "name": "#%%\n"
    }
   }
  },
  {
   "cell_type": "code",
   "execution_count": null,
   "outputs": [],
   "source": [
    "from matplotlib import pyplot as plt\n",
    "import subprocess, os\n",
    "\n",
    "def plot_as_emf(figure, **kwargs):\n",
    "    inkscape_path = kwargs.get('inkscape', \"C://Program Files//Inkscape//inkscape.exe\")\n",
    "    filepath = kwargs.get('filename', None)\n",
    "\n",
    "    if filepath is not None:\n",
    "        path, filename = os.path.split(filepath)\n",
    "        filename, extension = os.path.splitext(filename)\n",
    "\n",
    "        svg_filepath = os.path.join(path, filename+'.svg')\n",
    "        emf_filepath = os.path.join(path, filename+'.emf')\n",
    "\n",
    "        figure.savefig(svg_filepath, format='svg')\n",
    "\n",
    "        subprocess.call([inkscape_path, svg_filepath, '--export-emf', emf_filepath])\n",
    "        os.remove(svg_filepath)"
   ],
   "metadata": {
    "collapsed": false,
    "pycharm": {
     "name": "#%%\n"
    }
   }
  },
  {
   "cell_type": "code",
   "execution_count": null,
   "outputs": [],
   "source": [
    "plt.plot([1,2], [4,5])\n",
    "fig = plt.gcf()\n",
    "plot_as_emf(fig, filename=\"C:/test.emf\")"
   ],
   "metadata": {
    "collapsed": false,
    "pycharm": {
     "name": "#%%\n"
    }
   }
  },
  {
   "cell_type": "code",
   "execution_count": null,
   "outputs": [],
   "source": [
    "import os\n",
    "from pathlib import Path\n",
    "from ConfigParserM import logging\n",
    "import subprocess\n",
    "from matplotlib import pyplot as plt\n",
    "\n",
    "\n",
    "class SVG_WMF_Plot:\n",
    "\n",
    "    def __init__(self):\n",
    "        self.__folderNameGraph = 'Graphs'\n",
    "        self.__WMF_SVGSaving = True\n",
    "        self.__inkScapePath = \"C://Program Files//inkscape//inkscape.exe\"\n",
    "        self.__figureDPI = 500\n",
    "\n",
    "    def getRootDirectory(self):\n",
    "        try:\n",
    "            return Path(os.path.dirname(os.path.realpath('__file__')))\n",
    "\n",
    "        except Exception as e:\n",
    "            logging.exception(e)\n",
    "            raise\n",
    "\n",
    "    def getAddressTo(self, Main=None, FolderName=None, FileName=None, Extension=None):\n",
    "        try:\n",
    "            if Main is None:\n",
    "                Main = self.getRootDirectory()\n",
    "            if FolderName:\n",
    "                Path1 = Path(Main) / Path(FolderName)\n",
    "            else:\n",
    "                Path1 = Path(Main)\n",
    "\n",
    "            if not os.path.exists(Path1):\n",
    "                os.makedirs(Path1)\n",
    "            if FileName:\n",
    "                if Extension:\n",
    "                    File_Address = Path1 / Path(FileName + \".\" + Extension)\n",
    "                else:\n",
    "                    File_Address = Path1 / Path(FileName)\n",
    "            else:\n",
    "                File_Address = Path1\n",
    "            return File_Address\n",
    "\n",
    "        except Exception as e:\n",
    "            logging.exception(e)\n",
    "            raise\n",
    "\n",
    "    def TestPlot(self):\n",
    "        try:\n",
    "\n",
    "            fig, ax1 = plt.subplots()\n",
    "            x = [1, 2]\n",
    "            y = [1, 2]\n",
    "            F1 = 'test'\n",
    "            ax1.plot(x, y)\n",
    "            self.SaveAndClosePlot(folderName=self.__folderNameGraph, fileName=F1)\n",
    "\n",
    "\n",
    "        except Exception as e:\n",
    "            logging.exception(e)\n",
    "            raise\n",
    "\n",
    "    def SaveAndClosePlot(self, folderName, fileName):\n",
    "        try:\n",
    "            Address = self.getAddressTo(FolderName=self.__folderNameGraph + f\"\\{folderName}\", FileName=fileName, Extension=\"jpg\")\n",
    "            plt.savefig(Address, format='jpg', dpi=self.__figureDPI, bbox_inches='tight')\n",
    "\n",
    "            if self.__WMF_SVGSaving:\n",
    "                Address = self.getAddressTo(FolderName=self.__folderNameGraph + f\"\\{folderName}\", FileName=fileName, Extension=\"svg\")\n",
    "                plt.savefig(Address, format='svg', dpi=self.__figureDPI, bbox_inches='tight')\n",
    "                # add removing SVG if needed\n",
    "\n",
    "                AddressWMF = self.getAddressTo(FolderName=self.__folderNameGraph + f\"\\{folderName}\", FileName=fileName, Extension=\"wmf\")\n",
    "                subprocess.call([self.__inkScapePath, str(Address.resolve()), '--export-wmf', str(AddressWMF.resolve())])\n",
    "\n",
    "            plt.clf()\n",
    "            plt.close()\n",
    "        except Exception as e:\n",
    "            logging.exception(e)\n",
    "            raise"
   ],
   "metadata": {
    "collapsed": false,
    "pycharm": {
     "name": "#%%\n"
    }
   }
  }
 ],
 "metadata": {
  "kernelspec": {
   "display_name": "Python 3",
   "language": "python",
   "name": "python3"
  },
  "language_info": {
   "codemirror_mode": {
    "name": "ipython",
    "version": 2
   },
   "file_extension": ".py",
   "mimetype": "text/x-python",
   "name": "python",
   "nbconvert_exporter": "python",
   "pygments_lexer": "ipython2",
   "version": "2.7.6"
  }
 },
 "nbformat": 4,
 "nbformat_minor": 0
}