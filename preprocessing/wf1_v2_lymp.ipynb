{
 "cells": [
  {
   "cell_type": "code",
   "execution_count": 80,
   "metadata": {
    "collapsed": true,
    "pycharm": {
     "name": "#%%\n"
    }
   },
   "outputs": [],
   "source": [
    "from openslide import OpenSlide\n",
    "import os\n",
    "import numpy as np\n",
    "import xml.etree.ElementTree as ET\n",
    "import scipy\n",
    "import pandas as pd\n",
    "from matplotlib import pyplot as plt\n",
    "import cv2\n",
    "from time import time\n",
    "from rgb2hed_v1 import separate_stains\n",
    "import skimage\n",
    "from skimage import io\n",
    "from skimage.measure import label,find_contours,regionprops,regionprops_table\n",
    "from skimage.morphology import remove_small_objects\n",
    "from sklearn.neighbors import NearestNeighbors\n",
    "from joblib import Parallel, delayed, cpu_count\n",
    "from scipy.ndimage import binary_fill_holes"
   ]
  },
  {
   "cell_type": "code",
   "execution_count": 81,
   "outputs": [
    {
     "name": "stdout",
     "output_type": "stream",
     "text": [
      "image loading: 18.17 sec elapsed\n",
      "label loading: 0.13 sec elapsed\n",
      "mask modification: 0.00 sec elapsed\n",
      "color deconvolution: 4.86 sec elapsed\n",
      "0.44 sec elapsed\n",
      "47697 0.005925902918411211\n",
      "image loading: 21.84 sec elapsed\n",
      "label loading: 0.14 sec elapsed\n",
      "mask modification: 0.01 sec elapsed\n",
      "color deconvolution: 6.57 sec elapsed\n",
      "0.54 sec elapsed\n",
      "39658 0.005171776585719804\n",
      "image loading: 21.81 sec elapsed\n",
      "label loading: 0.13 sec elapsed\n",
      "mask modification: 0.00 sec elapsed\n",
      "color deconvolution: 6.39 sec elapsed\n",
      "0.53 sec elapsed\n",
      "41015 0.005394051117166313\n",
      "image loading: 21.84 sec elapsed\n",
      "label loading: 0.14 sec elapsed\n",
      "mask modification: 0.00 sec elapsed\n",
      "color deconvolution: 6.38 sec elapsed\n",
      "0.54 sec elapsed\n",
      "43522 0.005859072623583461\n",
      "image loading: 22.65 sec elapsed\n",
      "label loading: 0.14 sec elapsed\n",
      "mask modification: 0.01 sec elapsed\n",
      "color deconvolution: 6.41 sec elapsed\n",
      "0.54 sec elapsed\n",
      "50628 0.005861414162838208\n",
      "image loading: 24.97 sec elapsed\n",
      "label loading: 0.15 sec elapsed\n",
      "mask modification: 0.00 sec elapsed\n",
      "color deconvolution: 6.58 sec elapsed\n",
      "0.55 sec elapsed\n",
      "46936 0.005948414461632752\n",
      "image loading: 19.44 sec elapsed\n",
      "label loading: 0.14 sec elapsed\n",
      "mask modification: 0.01 sec elapsed\n",
      "color deconvolution: 6.62 sec elapsed\n",
      "0.57 sec elapsed\n",
      "47030 0.005140315980240114\n",
      "image loading: 26.94 sec elapsed\n",
      "label loading: 0.15 sec elapsed\n",
      "mask modification: 0.01 sec elapsed\n",
      "color deconvolution: 7.16 sec elapsed\n",
      "0.57 sec elapsed\n",
      "49671 0.005696036615363233\n",
      "image loading: 23.89 sec elapsed\n",
      "label loading: 0.14 sec elapsed\n",
      "mask modification: 0.01 sec elapsed\n",
      "color deconvolution: 6.80 sec elapsed\n",
      "0.58 sec elapsed\n",
      "45235 0.005246659698183972\n"
     ]
    }
   ],
   "source": [
    "# open svs and xml\n",
    "tif_src = r'\\\\kukissd\\research\\lymphocyte\\svs'\n",
    "fns = os.listdir(tif_src)\n",
    "fns = [os.path.splitext(fn)[0] for fn in fns]\n",
    "for fn in fns:\n",
    "    tif_path = os.path.join(*[tif_src,fn+'.tif'])\n",
    "    label_src =r'\\\\kukissd\\research\\lymphocyte\\classified'\n",
    "    label_path = os.path.join(*[label_src,fn+'.tif'])\n",
    "    start = time()\n",
    "    if os.path.exists(tif_path): svs = skimage.io.imread(tif_path)\n",
    "    print(\"image loading: {:.2f} sec elapsed\".format(time()-start))\n",
    "    start = time()\n",
    "\n",
    "    if os.path.exists(label_path): mask = skimage.io.imread(label_path)\n",
    "    print(\"label loading: {:.2f} sec elapsed\".format(time()-start))\n",
    "\n",
    "    # find reticular dermis of each section\n",
    "    start = time()\n",
    "    mask[mask!=9]=0\n",
    "    print(\"mask modification: {:.2f} sec elapsed\".format(time()-start))\n",
    "\n",
    "\n",
    "    region_mask = cv2.resize(mask,dsize=(svs.shape[1],svs.shape[0]))\n",
    "    region_mask3d = np.repeat(region_mask[:, :, np.newaxis], 3, axis=2)\n",
    "\n",
    "    region_mask[region_mask!=9]=0\n",
    "    region_mask[region_mask==9]=1\n",
    "    area = np.sum(region_mask==1)\n",
    "\n",
    "    svs[region_mask3d!=9] = 255\n",
    "    region = svs/255\n",
    "    region = region.astype(np.float32)\n",
    "\n",
    "    # RGB to Haematoxylin-Eosin-DAB (HED) color space conversion.\n",
    "    # Hematoxylin + Eosin + DAB\n",
    "    start=time()\n",
    "    rgb_from_hed = np.array([[0.650, 0.704, 0.286],\n",
    "                             [0.072, 0.990, 0.105],\n",
    "                             [0.268, 0.570, 0.776]])\n",
    "    hed_from_rgb = scipy.linalg.inv(rgb_from_hed)\n",
    "    ihc_hed = separate_stains(region, hed_from_rgb)\n",
    "    Hema = ihc_hed[:, :, 0]\n",
    "    print(\"color deconvolution: {:.2f} sec elapsed\".format(time()-start))\n",
    "\n",
    "    #1 intensity thresholding\n",
    "    threshold = 0.25\n",
    "    Hematoxylin = cv2.normalize(Hema, None, alpha=0, beta=1, norm_type=cv2.NORM_MINMAX, dtype=cv2.CV_32F)\n",
    "    np.save(fn+'_H.npy',Hematoxylin)\n",
    "    # Hematoxylin = np.load(fn+'_H.npy')\n",
    "    # plt.imshow(Hematoxylin)\n",
    "    Hematoxylin[Hematoxylin<threshold]=0\n",
    "    Hematoxylin[Hematoxylin>threshold]=1\n",
    "    labeled_bw = label(Hematoxylin).astype(np.int64)\n",
    "\n",
    "    #pre-size filter\n",
    "    start=time()\n",
    "    remove_small_objects(labeled_bw,min_size=4,connectivity=1,in_place=True)\n",
    "    print(\"{:.2f} sec elapsed\".format(time()-start))\n",
    "    labeled_bw = label((labeled_bw>0)*1).astype(np.int32)\n",
    "\n",
    "    n = len(np.unique(labeled_bw))\n",
    "    d = n / area\n",
    "\n",
    "    print(n,d)"
   ],
   "metadata": {
    "collapsed": false,
    "pycharm": {
     "name": "#%%\n"
    }
   }
  },
  {
   "cell_type": "code",
   "execution_count": 82,
   "outputs": [],
   "source": [
    "# start=time()\n",
    "# prop2 = regionprops(labeled_bw)\n",
    "# area2 = Parallel(n_jobs=-4, prefer=\"threads\")(delayed(np.sum)(x._label_image[x._slice] == x.label) for x in prop2)\n",
    "# print(\"{:.2f} sec elapsed\".format(time()-start))\n",
    "# plt.figure(figsize=(10,5))\n",
    "# plt.hist(area2,100)\n",
    "# plt.xlim([0,50])"
   ],
   "metadata": {
    "collapsed": false,
    "pycharm": {
     "name": "#%%\n"
    }
   }
  },
  {
   "cell_type": "code",
   "execution_count": 87,
   "outputs": [
    {
     "data": {
      "text/plain": "<BarContainer object of 9 artists>"
     },
     "execution_count": 87,
     "metadata": {},
     "output_type": "execute_result"
    },
    {
     "data": {
      "text/plain": "<Figure size 720x360 with 1 Axes>",
      "image/png": "[encoded data removed]"
     },
     "metadata": {
      "needs_background": "light"
     },
     "output_type": "display_data"
    }
   ],
   "source": [
    "plt.figure(figsize=(10,5))\n",
    "plt.bar(x=[1,2,3,4,5,6,7,8,9],height=[0.59\n",
    ",0.52\n",
    ",0.54\n",
    ",0.59\n",
    ",0.59\n",
    ",0.59\n",
    ",0.51\n",
    ",0.57\n",
    ",0.52\n",
    "\n",
    "])"
   ],
   "metadata": {
    "collapsed": false,
    "pycharm": {
     "name": "#%%\n"
    }
   }
  },
  {
   "cell_type": "code",
   "execution_count": 1,
   "outputs": [
    {
     "data": {
      "text/plain": "0.059026025458283046"
     },
     "execution_count": 1,
     "metadata": {},
     "output_type": "execute_result"
    }
   ],
   "source": [
    "import numpy as np\n",
    "\n",
    "a=[0.59\n",
    ",0.52\n",
    ",0.54\n",
    ",0.59\n",
    ",0.59\n",
    ",0.59\n",
    ",0.51\n",
    ",0.57\n",
    ",0.52\n",
    "]\n",
    "np.std(a)/np.mean(a)"
   ],
   "metadata": {
    "collapsed": false,
    "pycharm": {
     "name": "#%%\n"
    }
   }
  }
 ],
 "metadata": {
  "kernelspec": {
   "display_name": "Python 3",
   "language": "python",
   "name": "python3"
  },
  "language_info": {
   "codemirror_mode": {
    "name": "ipython",
    "version": 2
   },
   "file_extension": ".py",
   "mimetype": "text/x-python",
   "name": "python",
   "nbconvert_exporter": "python",
   "pygments_lexer": "ipython2",
   "version": "2.7.6"
  }
 },
 "nbformat": 4,
 "nbformat_minor": 0
}