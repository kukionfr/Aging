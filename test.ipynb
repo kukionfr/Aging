{
 "cells": [
  {
   "cell_type": "code",
   "execution_count": 12,
   "metadata": {
    "collapsed": true,
    "pycharm": {
     "name": "#%%\n"
    }
   },
   "outputs": [
    {
     "data": {
      "text/plain": "            1    3    7   10   16   19   23   25   29     31  ...     41  \\\nIncV3/t2  0.0  0.0  0.0  0.0  0.0  0.0  0.0  0.0  0.0  100.0  ...  100.0   \n\n             45     49     62     68     70     76     78     82     88  \nIncV3/t2  100.0  100.0  100.0  100.0  100.0  100.0  100.0  100.0  100.0  \n\n[1 rows x 21 columns]",
      "text/html": "<div>\n<style scoped>\n    .dataframe tbody tr th:only-of-type {\n        vertical-align: middle;\n    }\n\n    .dataframe tbody tr th {\n        vertical-align: top;\n    }\n\n    .dataframe thead th {\n        text-align: right;\n    }\n</style>\n<table border=\"1\" class=\"dataframe\">\n  <thead>\n    <tr style=\"text-align: right;\">\n      <th></th>\n      <th>1</th>\n      <th>3</th>\n      <th>7</th>\n      <th>10</th>\n      <th>16</th>\n      <th>19</th>\n      <th>23</th>\n      <th>25</th>\n      <th>29</th>\n      <th>31</th>\n      <th>...</th>\n      <th>41</th>\n      <th>45</th>\n      <th>49</th>\n      <th>62</th>\n      <th>68</th>\n      <th>70</th>\n      <th>76</th>\n      <th>78</th>\n      <th>82</th>\n      <th>88</th>\n    </tr>\n  </thead>\n  <tbody>\n    <tr>\n      <th>IncV3/t2</th>\n      <td>0.0</td>\n      <td>0.0</td>\n      <td>0.0</td>\n      <td>0.0</td>\n      <td>0.0</td>\n      <td>0.0</td>\n      <td>0.0</td>\n      <td>0.0</td>\n      <td>0.0</td>\n      <td>100.0</td>\n      <td>...</td>\n      <td>100.0</td>\n      <td>100.0</td>\n      <td>100.0</td>\n      <td>100.0</td>\n      <td>100.0</td>\n      <td>100.0</td>\n      <td>100.0</td>\n      <td>100.0</td>\n      <td>100.0</td>\n      <td>100.0</td>\n    </tr>\n  </tbody>\n</table>\n<p>1 rows × 21 columns</p>\n</div>"
     },
     "execution_count": 12,
     "metadata": {},
     "output_type": "execute_result"
    }
   ],
   "source": [
    "import numpy as np\n",
    "import pandas as pd\n",
    "import os\n",
    "\n",
    "df = pd.read_csv('t1_t15.csv',header=0,index_col=0)\n",
    "df"
   ]
  },
  {
   "cell_type": "code",
   "execution_count": 13,
   "outputs": [
    {
     "data": {
      "text/plain": "            1    3    7    10    16    19    23    25    29     31  ...  \\\nIncV3/t2  0.0  0.0  0.0   0.0   0.0   0.0   0.0   0.0   0.0  100.0  ...   \nmm/t      1.0  3.0  7.0  10.0  16.0  19.0  23.0  25.0  29.0   31.0  ...   \n\n             41     45     49     62     68     70     76     78     82     88  \nIncV3/t2  100.0  100.0  100.0  100.0  100.0  100.0  100.0  100.0  100.0  100.0  \nmm/t       41.0   45.0   49.0   62.0   68.0   70.0   76.0   78.0   82.0   88.0  \n\n[2 rows x 21 columns]",
      "text/html": "<div>\n<style scoped>\n    .dataframe tbody tr th:only-of-type {\n        vertical-align: middle;\n    }\n\n    .dataframe tbody tr th {\n        vertical-align: top;\n    }\n\n    .dataframe thead th {\n        text-align: right;\n    }\n</style>\n<table border=\"1\" class=\"dataframe\">\n  <thead>\n    <tr style=\"text-align: right;\">\n      <th></th>\n      <th>1</th>\n      <th>3</th>\n      <th>7</th>\n      <th>10</th>\n      <th>16</th>\n      <th>19</th>\n      <th>23</th>\n      <th>25</th>\n      <th>29</th>\n      <th>31</th>\n      <th>...</th>\n      <th>41</th>\n      <th>45</th>\n      <th>49</th>\n      <th>62</th>\n      <th>68</th>\n      <th>70</th>\n      <th>76</th>\n      <th>78</th>\n      <th>82</th>\n      <th>88</th>\n    </tr>\n  </thead>\n  <tbody>\n    <tr>\n      <th>IncV3/t2</th>\n      <td>0.0</td>\n      <td>0.0</td>\n      <td>0.0</td>\n      <td>0.0</td>\n      <td>0.0</td>\n      <td>0.0</td>\n      <td>0.0</td>\n      <td>0.0</td>\n      <td>0.0</td>\n      <td>100.0</td>\n      <td>...</td>\n      <td>100.0</td>\n      <td>100.0</td>\n      <td>100.0</td>\n      <td>100.0</td>\n      <td>100.0</td>\n      <td>100.0</td>\n      <td>100.0</td>\n      <td>100.0</td>\n      <td>100.0</td>\n      <td>100.0</td>\n    </tr>\n    <tr>\n      <th>mm/t</th>\n      <td>1.0</td>\n      <td>3.0</td>\n      <td>7.0</td>\n      <td>10.0</td>\n      <td>16.0</td>\n      <td>19.0</td>\n      <td>23.0</td>\n      <td>25.0</td>\n      <td>29.0</td>\n      <td>31.0</td>\n      <td>...</td>\n      <td>41.0</td>\n      <td>45.0</td>\n      <td>49.0</td>\n      <td>62.0</td>\n      <td>68.0</td>\n      <td>70.0</td>\n      <td>76.0</td>\n      <td>78.0</td>\n      <td>82.0</td>\n      <td>88.0</td>\n    </tr>\n  </tbody>\n</table>\n<p>2 rows × 21 columns</p>\n</div>"
     },
     "execution_count": 13,
     "metadata": {},
     "output_type": "execute_result"
    }
   ],
   "source": [
    "# dfaa = pd.DataFrame([], columns=[1, 3, 7, 10, 16, 19, 23, 25, 29, 31, 37, 41, 45, 49, 62, 68, 70, 76, 78, 82, 88])\n",
    "aa=[1, 3, 7, 10, 16, 19, 23, 25, 29, 31, 37, 41, 45, 49, 62, 68, 70, 76, 78, 82, 88]\n",
    "df.loc[os.path.join('mm', 't')] = aa\n",
    "df"
   ],
   "metadata": {
    "collapsed": false,
    "pycharm": {
     "name": "#%%\n"
    }
   }
  }
 ],
 "metadata": {
  "kernelspec": {
   "display_name": "Python 3",
   "language": "python",
   "name": "python3"
  },
  "language_info": {
   "codemirror_mode": {
    "name": "ipython",
    "version": 2
   },
   "file_extension": ".py",
   "mimetype": "text/x-python",
   "name": "python",
   "nbconvert_exporter": "python",
   "pygments_lexer": "ipython2",
   "version": "2.7.6"
  }
 },
 "nbformat": 4,
 "nbformat_minor": 0
}