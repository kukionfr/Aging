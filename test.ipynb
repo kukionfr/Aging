{
 "cells": [
  {
   "cell_type": "code",
   "execution_count": 4,
   "metadata": {
    "collapsed": true,
    "pycharm": {
     "name": "#%%\n"
    }
   },
   "outputs": [
    {
     "name": "stdout",
     "output_type": "stream",
     "text": [
      "[99, 100, 100, 100, 99, 100, 100, 98, 100, 100, 100, 98, 100, 100]\n",
      "[12, 84, 34, 74, 91, 100, 54]\n"
     ]
    },
    {
     "data": {
      "text/plain": "99.57142857142857"
     },
     "execution_count": 4,
     "metadata": {},
     "output_type": "execute_result"
    }
   ],
   "source": [
    "import numpy as np\n",
    "aa = [99,100,100,100,99,100,12,84,34,100,98,100,100,100,98,100,100,74,91,100,54]\n",
    "print(aa[0:6]+aa[9:17])\n",
    "print(aa[6:9]+aa[17:21])\n",
    "np.average(aa[0:6]+aa[9:17])\n",
    "np.average(aa[6:9]+aa[17:21])"
   ]
  }
 ],
 "metadata": {
  "kernelspec": {
   "display_name": "Python 3",
   "language": "python",
   "name": "python3"
  },
  "language_info": {
   "codemirror_mode": {
    "name": "ipython",
    "version": 2
   },
   "file_extension": ".py",
   "mimetype": "text/x-python",
   "name": "python",
   "nbconvert_exporter": "python",
   "pygments_lexer": "ipython2",
   "version": "2.7.6"
  }
 },
 "nbformat": 4,
 "nbformat_minor": 0
}